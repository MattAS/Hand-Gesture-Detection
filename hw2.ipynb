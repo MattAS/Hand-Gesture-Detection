{
 "cells": [
  {
   "cell_type": "code",
   "execution_count": 1,
   "metadata": {},
   "outputs": [],
   "source": [
    "import numpy as np\n",
    "import cv2"
   ]
  },
  {
   "cell_type": "code",
   "execution_count": 2,
   "metadata": {},
   "outputs": [],
   "source": [
    "OPEN_HAND = './Pictures/openHand.png'\n",
    "ROCK_HAND = './Pictures/rockHand.png'\n",
    "SCISSOR_HAND = './Pictures/scissorHand.png'\n",
    "START_HAND = './Pictures/startHand.png'"
   ]
  },
  {
   "cell_type": "code",
   "execution_count": 3,
   "metadata": {},
   "outputs": [],
   "source": [
    "def threshold(frame):\n",
    "    # Skin detection and creating binary image based on detected skin\n",
    "    w,h = frame.shape[0:2]\n",
    "    img_thres = np.zeros((w,h), dtype=\"uint8\")\n",
    "    mask = np.logical_and.reduce([frame[:,:,0] >= 50, frame[:,:,1] >= 95, frame[:,:,2] >= 175])\n",
    "    img_thres[mask] = 255\n",
    "    \n",
    "    return img_thres\n",
    "\n",
    "def find_contour(img_thres):\n",
    "    #Finds contours from a thresholded image. Returns the coordinates for drawing a rectangle.\n",
    "    contours, hierarchy = cv2.findContours(img_thres, cv2.RETR_TREE, cv2.CHAIN_APPROX_SIMPLE)\n",
    "    contour_output = cv2.cvtColor(np.zeros(np.shape(img_thres), dtype=\"uint8\"), cv2.COLOR_GRAY2BGR)\n",
    "    \n",
    "    bound_rect = None\n",
    "    \n",
    "    if(len(contours) > 0):\n",
    "        max_id = max(enumerate(contours), key=lambda x: cv2.contourArea(x[1]))[0]\n",
    "        max_size = cv2.contourArea(contours[max_id])\n",
    "        bound_rect = cv2.boundingRect(contours[max_id])\n",
    "        hull = [cv2.convexHull(contours[max_id])]\n",
    "        cv2.drawContours(contour_output, hull, -1, (255,0,0), 1, 8)\n",
    "        \n",
    "        contour_output = roi.copy()\n",
    "        \n",
    "        cv2.drawContours(contour_output, contours, max_id, (255,0,0), cv2.FILLED, 8)\n",
    "        cv2.drawContours(contour_output, contours, max_id, (0,0,255), 2, 8)\n",
    "        cv2.rectangle(contour_output, bound_rect, (0,255,0), 1,8,0)\n",
    "    cv2.imshow(\"Contour Output\", contour_output)\n",
    "    return bound_rect"
   ]
  },
  {
   "cell_type": "code",
   "execution_count": 4,
   "metadata": {},
   "outputs": [],
   "source": [
    "def detect_gesture(frame, cropped, method=cv2.TM_CCOEFF_NORMED):\n",
    "    # Detects the hand gestures through the Normalized Correlation Coefficient method.\n",
    "    open_hand = cv2.imread(OPEN_HAND)\n",
    "    scissor_hand = cv2.imread(SCISSOR_HAND)\n",
    "    rock_hand = cv2.imread(ROCK_HAND)\n",
    "    start_hand = cv2.imread(START_HAND)\n",
    "    \n",
    "    open_hand = cv2.cvtColor(open_hand, cv2.COLOR_BGR2GRAY)\n",
    "    scissor_hand = cv2.cvtColor(scissor_hand, cv2.COLOR_BGR2GRAY)\n",
    "    rock_hand = cv2.cvtColor(rock_hand, cv2.COLOR_BGR2GRAY)\n",
    "    start_hand = cv2.cvtColor(start_hand, cv2.COLOR_BGR2GRAY)\n",
    "    \n",
    "    _,open_hand = cv2.threshold(open_hand, 180, 255,0)\n",
    "    _,scissor_hand = cv2.threshold(scissor_hand, 180, 255, 0)\n",
    "    _,rock_hand = cv2.threshold(rock_hand, 180,  255,0)\n",
    "    _,start_hand = cv2.threshold(start_hand, 180,  255,0)\n",
    "    \n",
    "    max_val_dict = {'open': None, 'rock': None, 'scissor': None, 'start': None}\n",
    "    \n",
    "    try:\n",
    "        res_open = cv2.matchTemplate(cropped,open_hand,method)\n",
    "        res_rock = cv2.matchTemplate(cropped,rock_hand,method)\n",
    "        res_scissor = cv2.matchTemplate(cropped,scissor_hand,method)\n",
    "        res_start = cv2.matchTemplate(cropped,start_hand,method)\n",
    "        \n",
    "        _,max_val_open, _, _ = cv2.minMaxLoc(res_open)\n",
    "        _,max_val_rock, _, _ = cv2.minMaxLoc(res_rock)\n",
    "        _,max_val_scissor, _, _ = cv2.minMaxLoc(res_scissor)\n",
    "        _,max_val_start, _, _ = cv2.minMaxLoc(res_start)\n",
    "        \n",
    "        max_val_dict['open'] = max_val_open\n",
    "        max_val_dict['rock'] = max_val_rock\n",
    "        max_val_dict['scissor'] = max_val_scissor\n",
    "        max_val_dict['start'] = max_val_start\n",
    "       \n",
    "        maximum = max(max_val_dict.values(), key=float)      \n",
    "        \n",
    "        if maximum == max_val_dict['open']:\n",
    "            gesture = 'Open Hand'\n",
    "        elif maximum == max_val_dict['rock']:\n",
    "            gesture ='rock Hand'\n",
    "        elif maximum == max_val_dict['scissor']:\n",
    "            gesture ='scissor Hand'\n",
    "        elif maximum == max_val_dict['start']:\n",
    "            gesture = 'start'\n",
    "        return gesture\n",
    "    except Exception as e:\n",
    "        print(e)\n",
    "        pass"
   ]
  },
  {
   "cell_type": "code",
   "execution_count": 5,
   "metadata": {},
   "outputs": [],
   "source": [
    "cap = cv2.VideoCapture(0)\n",
    "\n",
    "while(True):\n",
    "    # Capture frame-by-frame\n",
    "    ret, frame = cap.read()\n",
    "    roi = frame[100:265, 100:265] # Crop image\n",
    "    cv2.rectangle(frame, (100,100), (265,265), (0,255,0)) #draw a rectangle in frame for the region of interest\n",
    "    \n",
    "    roi = cv2.GaussianBlur(roi, (5,5), 0) # remove excess noise by blurring\n",
    "    roi = cv2.dilate(roi, (2,2)) # Then dialating the image\n",
    "        \n",
    "    img_thres = threshold(roi)\n",
    "    bound_rect = find_contour(img_thres)\n",
    "    gesture = detect_gesture(frame, img_thres)\n",
    "    frame = cv2.putText(frame, gesture, (10,50), cv2.FONT_HERSHEY_SIMPLEX, 1, (255,0,0))\n",
    "    cv2.imshow('frame',frame)\n",
    "    cv2.imshow('ROI', img_thres)\n",
    "    if cv2.waitKey(1) & 0xFF == ord('q'):\n",
    "        break\n",
    "    \n",
    "cap.release()\n",
    "cv2.destroyAllWindows()"
   ]
  },
  {
   "cell_type": "code",
   "execution_count": null,
   "metadata": {},
   "outputs": [],
   "source": []
  }
 ],
 "metadata": {
  "kernelspec": {
   "display_name": "Python 3",
   "language": "python",
   "name": "python3"
  },
  "language_info": {
   "codemirror_mode": {
    "name": "ipython",
    "version": 3
   },
   "file_extension": ".py",
   "mimetype": "text/x-python",
   "name": "python",
   "nbconvert_exporter": "python",
   "pygments_lexer": "ipython3",
   "version": "3.7.6"
  }
 },
 "nbformat": 4,
 "nbformat_minor": 4
}
